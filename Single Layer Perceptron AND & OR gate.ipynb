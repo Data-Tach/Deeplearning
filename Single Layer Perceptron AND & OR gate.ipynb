{
 "cells": [
  {
   "cell_type": "markdown",
   "metadata": {},
   "source": [
    "#### AND GATE Single Layer Perceptron"
   ]
  },
  {
   "cell_type": "code",
   "execution_count": 30,
   "metadata": {},
   "outputs": [],
   "source": [
    "_inp = ((0,0), (1,0), (0,1), (1,1))"
   ]
  },
  {
   "cell_type": "code",
   "execution_count": 31,
   "metadata": {},
   "outputs": [],
   "source": [
    "w1 = 1.2\n",
    "w2 = 0.6\n",
    "\n",
    "# Threshold \n",
    "th = 1\n",
    "# Learning rate\n",
    "n = 0.5"
   ]
  },
  {
   "cell_type": "code",
   "execution_count": 32,
   "metadata": {},
   "outputs": [
    {
     "name": "stdout",
     "output_type": "stream",
     "text": [
      "Updating Weights...\n",
      "Prev weights [W1,W2]= [1.2, 0.6]\n",
      "New weights [W1,W2]= [0.7, 0.6]\n",
      "\n",
      "Training successfully completed\n",
      "Final weight\n",
      "W1\tW2\t\n",
      "0.7\t0.6\n",
      "\n",
      "A\tB\tTarget\tActual\n",
      "0\t0\t0\t0\n",
      "1\t0\t0\t0\n",
      "0\t1\t0\t0\n",
      "1\t1\t1\t1\n"
     ]
    }
   ],
   "source": [
    "for _ in range(1000):\n",
    "    for A,B in _inp:\n",
    "        target = A & B\n",
    "        wixi = A*w1 + B*w2\n",
    "        actual = 1 if wixi>th else 0\n",
    "        \n",
    "        if target!=actual:\n",
    "            # update\n",
    "            prev_w1, prev_w2 = w1,w2\n",
    "            w1 = w1 + n*(target-actual)*A\n",
    "            w2 = w2 + n*(target-actual)*B\n",
    "            print(\"Updating Weights...\")\n",
    "            \n",
    "            print(\"Prev weights [W1,W2]=\",[prev_w1,prev_w2])\n",
    "            print(\"New weights [W1,W2]=\",[w1,w2])\n",
    "            break\n",
    "    else:\n",
    "        print(\"\\nTraining successfully completed\")\n",
    "        print(\"Final weight\\nW1\\tW2\\t\")\n",
    "        print(f\"{w1}\\t{w2}\")\n",
    "        \n",
    "        print(\"\\nA\\tB\\tTarget\\tActual\")\n",
    "        \n",
    "        \n",
    "        for A,B in _inp:\n",
    "            target = A & B\n",
    "            wixi = A*w1 + B*w2\n",
    "            actual = 1 if wixi>th else 0\n",
    "            print(f\"{A}\\t{B}\\t{target}\\t{actual}\")\n",
    "        \n",
    "        break\n",
    "else:\n",
    "    print(\"Iterations Completed\")"
   ]
  },
  {
   "cell_type": "markdown",
   "metadata": {},
   "source": [
    "## OR GATE"
   ]
  },
  {
   "cell_type": "code",
   "execution_count": 33,
   "metadata": {},
   "outputs": [
    {
     "name": "stdout",
     "output_type": "stream",
     "text": [
      "Updating Weights...\n",
      "Prev weights [W1,W2]= [1.2, 0.6]\n",
      "New weights [W1,W2]= [1.2, 1.1]\n",
      "\n",
      "Training successfully completed\n",
      "Final weight\n",
      "W1\tW2\t\n",
      "1.2\t1.1\n",
      "\n",
      "A\tB\tTarget\tActual\n",
      "0\t0\t0\t0\n",
      "1\t0\t1\t1\n",
      "0\t1\t1\t1\n",
      "1\t1\t1\t1\n"
     ]
    }
   ],
   "source": [
    "_inp = ((0,0), (1,0), (0,1), (1,1))\n",
    "\n",
    "w1 = 1.2\n",
    "w2 = 0.6\n",
    "\n",
    "# Threshold \n",
    "th = 1\n",
    "# Learning rate\n",
    "n = 0.5\n",
    "\n",
    "for _ in range(1000):\n",
    "    for A,B in _inp:\n",
    "        target = A | B\n",
    "        wixi = A*w1 + B*w2\n",
    "        actual = 1 if wixi>th else 0 \n",
    "        \n",
    "        if target!=actual:\n",
    "            # update\n",
    "            prev_w1, prev_w2 = w1,w2\n",
    "            w1 = w1 + n*(target-actual)*A\n",
    "            w2 = w2 + n*(target-actual)*B\n",
    "            \n",
    "            print(\"Updating Weights...\")\n",
    "            \n",
    "            print(\"Prev weights [W1,W2]=\",[prev_w1,prev_w2])\n",
    "            print(\"New weights [W1,W2]=\",[w1,w2])\n",
    "            break\n",
    "    else:\n",
    "        print(\"\\nTraining successfully completed\")\n",
    "        print(\"Final weight\\nW1\\tW2\\t\")\n",
    "        print(f\"{w1}\\t{w2}\")\n",
    "        \n",
    "        print(\"\\nA\\tB\\tTarget\\tActual\")\n",
    "        \n",
    "        for A,B in _inp:\n",
    "            target = A | B\n",
    "            wixi = A*w1 + B*w2\n",
    "            actual = 1 if wixi>th else 0\n",
    "            print(f\"{A}\\t{B}\\t{target}\\t{actual}\")\n",
    "        \n",
    "        break\n",
    "else:\n",
    "    print(\"Iterations Completed\")"
   ]
  },
  {
   "cell_type": "code",
   "execution_count": null,
   "metadata": {},
   "outputs": [],
   "source": []
  }
 ],
 "metadata": {
  "kernelspec": {
   "display_name": "Python 3",
   "language": "python",
   "name": "python3"
  },
  "language_info": {
   "codemirror_mode": {
    "name": "ipython",
    "version": 3
   },
   "file_extension": ".py",
   "mimetype": "text/x-python",
   "name": "python",
   "nbconvert_exporter": "python",
   "pygments_lexer": "ipython3",
   "version": "3.8.5"
  }
 },
 "nbformat": 4,
 "nbformat_minor": 4
}
